{
 "cells": [
  {
   "cell_type": "code",
   "execution_count": 13,
   "id": "9ed2ca17",
   "metadata": {},
   "outputs": [],
   "source": [
    "import pyspark\n",
    "from pyspark.sql import SparkSession\n",
    "from pyspark.sql.types import *\n",
    "from pyspark.sql.functions import *"
   ]
  },
  {
   "cell_type": "code",
   "execution_count": 2,
   "id": "eaf46923",
   "metadata": {},
   "outputs": [
    {
     "name": "stderr",
     "output_type": "stream",
     "text": [
      "Setting default log level to \"WARN\".\n",
      "To adjust logging level use sc.setLogLevel(newLevel). For SparkR, use setLogLevel(newLevel).\n"
     ]
    },
    {
     "name": "stdout",
     "output_type": "stream",
     "text": [
      "24/03/03 14:36:42 WARN NativeCodeLoader: Unable to load native-hadoop library for your platform... using builtin-java classes where applicable\n"
     ]
    }
   ],
   "source": [
    "spark = SparkSession.builder \\\n",
    "    .master(\"local[*]\") \\\n",
    "    .appName('test') \\\n",
    "    .getOrCreate()\n"
   ]
  },
  {
   "cell_type": "code",
   "execution_count": 7,
   "id": "baff55fa",
   "metadata": {},
   "outputs": [
    {
     "data": {
      "text/plain": [
       "'3.3.2'"
      ]
     },
     "execution_count": 7,
     "metadata": {},
     "output_type": "execute_result"
    }
   ],
   "source": [
    "spark.version"
   ]
  },
  {
   "cell_type": "code",
   "execution_count": 3,
   "id": "7d783d51",
   "metadata": {},
   "outputs": [],
   "source": [
    "schema = StructType([\n",
    "  StructField('dispatching_base_num', StringType(), True),\n",
    "  StructField('pickup_datetime', TimestampType(), True),\n",
    "  StructField('dropOff_datetime', TimestampType(), True),\n",
    "  StructField('PUlocationID', IntegerType(), True),\n",
    "  StructField('DOlocationID', IntegerType(), True),\n",
    "  StructField('SR_Flag', StringType(), True),\n",
    "  StructField('Affiliated_base_number', StringType(), True)\n",
    "])"
   ]
  },
  {
   "cell_type": "code",
   "execution_count": 5,
   "id": "e2bb86c5",
   "metadata": {},
   "outputs": [],
   "source": [
    "df = spark.read.option(\"compression\", \"gzip\").option(\"header\", True).schema(schema).csv(\"data/raw/fvh\")"
   ]
  },
  {
   "cell_type": "code",
   "execution_count": 6,
   "id": "327ff927",
   "metadata": {},
   "outputs": [
    {
     "name": "stdout",
     "output_type": "stream",
     "text": [
      "root\n",
      " |-- dispatching_base_num: string (nullable = true)\n",
      " |-- pickup_datetime: timestamp (nullable = true)\n",
      " |-- dropOff_datetime: timestamp (nullable = true)\n",
      " |-- PUlocationID: integer (nullable = true)\n",
      " |-- DOlocationID: integer (nullable = true)\n",
      " |-- SR_Flag: string (nullable = true)\n",
      " |-- Affiliated_base_number: string (nullable = true)\n",
      "\n"
     ]
    }
   ],
   "source": [
    "df.printSchema()"
   ]
  },
  {
   "cell_type": "code",
   "execution_count": 9,
   "id": "1fcf9a64",
   "metadata": {},
   "outputs": [
    {
     "name": "stderr",
     "output_type": "stream",
     "text": [
      "                                                                                \r"
     ]
    }
   ],
   "source": [
    "df.repartition(6) \\\n",
    "    .write \\\n",
    "    .parquet(\"data//raw/fvh/pq/\")"
   ]
  },
  {
   "cell_type": "code",
   "execution_count": 11,
   "id": "012cc927",
   "metadata": {},
   "outputs": [],
   "source": [
    "columns = df.columns"
   ]
  },
  {
   "cell_type": "code",
   "execution_count": 35,
   "id": "825326d1",
   "metadata": {},
   "outputs": [],
   "source": [
    "number_of_trips = df.filter(to_date('pickup_datetime', 'YYYY-MM-dd') == '2019-10-15')"
   ]
  },
  {
   "cell_type": "code",
   "execution_count": 39,
   "id": "15a4fac4",
   "metadata": {},
   "outputs": [
    {
     "name": "stderr",
     "output_type": "stream",
     "text": [
      "                                                                                \r"
     ]
    },
    {
     "data": {
      "text/plain": [
       "62610"
      ]
     },
     "execution_count": 39,
     "metadata": {},
     "output_type": "execute_result"
    }
   ],
   "source": [
    "number_of_trips.count()"
   ]
  },
  {
   "cell_type": "code",
   "execution_count": null,
   "id": "f1176f8e",
   "metadata": {},
   "outputs": [],
   "source": []
  },
  {
   "cell_type": "code",
   "execution_count": 56,
   "id": "68c50091",
   "metadata": {},
   "outputs": [],
   "source": [
    "df_trip_duration = df.select(columns).withColumn(\"trip_duration\",unix_timestamp(\"dropoff_datetime\") - unix_timestamp(\"pickup_datetime\"))"
   ]
  },
  {
   "cell_type": "code",
   "execution_count": 86,
   "id": "89063a6c",
   "metadata": {},
   "outputs": [
    {
     "name": "stderr",
     "output_type": "stream",
     "text": [
      "                                                                                \r"
     ]
    }
   ],
   "source": [
    "longest_trip = df_trip_duration.select(max(\"trip_duration\")).first()[0]"
   ]
  },
  {
   "cell_type": "code",
   "execution_count": 87,
   "id": "5fd4091c",
   "metadata": {},
   "outputs": [
    {
     "data": {
      "text/plain": [
       "631152.5"
      ]
     },
     "execution_count": 87,
     "metadata": {},
     "output_type": "execute_result"
    }
   ],
   "source": [
    "longest_trip/3600"
   ]
  },
  {
   "cell_type": "code",
   "execution_count": 88,
   "id": "52c17e48",
   "metadata": {},
   "outputs": [],
   "source": [
    "zone_df = spark.read.option(\"inferSchema\", \"true\").option(\"header\", \"true\").csv(\"data/zone/\")"
   ]
  },
  {
   "cell_type": "code",
   "execution_count": 89,
   "id": "23cb62f7",
   "metadata": {},
   "outputs": [
    {
     "name": "stdout",
     "output_type": "stream",
     "text": [
      "+----------+-------------+--------------------+------------+\n",
      "|LocationID|      Borough|                Zone|service_zone|\n",
      "+----------+-------------+--------------------+------------+\n",
      "|         1|          EWR|      Newark Airport|         EWR|\n",
      "|         2|       Queens|         Jamaica Bay|   Boro Zone|\n",
      "|         3|        Bronx|Allerton/Pelham G...|   Boro Zone|\n",
      "|         4|    Manhattan|       Alphabet City| Yellow Zone|\n",
      "|         5|Staten Island|       Arden Heights|   Boro Zone|\n",
      "|         6|Staten Island|Arrochar/Fort Wad...|   Boro Zone|\n",
      "|         7|       Queens|             Astoria|   Boro Zone|\n",
      "|         8|       Queens|        Astoria Park|   Boro Zone|\n",
      "|         9|       Queens|          Auburndale|   Boro Zone|\n",
      "|        10|       Queens|        Baisley Park|   Boro Zone|\n",
      "|        11|     Brooklyn|          Bath Beach|   Boro Zone|\n",
      "|        12|    Manhattan|        Battery Park| Yellow Zone|\n",
      "|        13|    Manhattan|   Battery Park City| Yellow Zone|\n",
      "|        14|     Brooklyn|           Bay Ridge|   Boro Zone|\n",
      "|        15|       Queens|Bay Terrace/Fort ...|   Boro Zone|\n",
      "|        16|       Queens|             Bayside|   Boro Zone|\n",
      "|        17|     Brooklyn|             Bedford|   Boro Zone|\n",
      "|        18|        Bronx|        Bedford Park|   Boro Zone|\n",
      "|        19|       Queens|           Bellerose|   Boro Zone|\n",
      "|        20|        Bronx|             Belmont|   Boro Zone|\n",
      "+----------+-------------+--------------------+------------+\n",
      "only showing top 20 rows\n",
      "\n"
     ]
    }
   ],
   "source": [
    "zone_df.show()"
   ]
  },
  {
   "cell_type": "code",
   "execution_count": 92,
   "id": "f8ea31f8",
   "metadata": {},
   "outputs": [],
   "source": [
    "zone_df.createOrReplaceTempView('zone')\n",
    "df.createOrReplaceTempView('fvh')"
   ]
  },
  {
   "cell_type": "code",
   "execution_count": 101,
   "id": "74cd7122",
   "metadata": {},
   "outputs": [],
   "source": [
    "df_result = spark.sql(\"\"\"\n",
    "    \n",
    "    SELECT Zone, Count(*) as pickup_zone\n",
    "    FROM zone INNER JOIN fvh ON LocationID = fvh.PULocationID\n",
    "    Group by Zone\n",
    "    ORDER BY pickup_zone\n",
    "    LIMIT 1\n",
    "    \n",
    "    \"\"\"\n",
    "    \n",
    ")"
   ]
  },
  {
   "cell_type": "code",
   "execution_count": 102,
   "id": "4615405b",
   "metadata": {},
   "outputs": [
    {
     "name": "stderr",
     "output_type": "stream",
     "text": [
      "\r",
      "[Stage 87:>                                                         (0 + 1) / 1]\r"
     ]
    },
    {
     "name": "stdout",
     "output_type": "stream",
     "text": [
      "+-----------+-----------+\n",
      "|       Zone|pickup_zone|\n",
      "+-----------+-----------+\n",
      "|Jamaica Bay|          1|\n",
      "+-----------+-----------+\n",
      "\n"
     ]
    },
    {
     "name": "stderr",
     "output_type": "stream",
     "text": [
      "\r",
      "                                                                                \r"
     ]
    }
   ],
   "source": [
    "df_result.show()"
   ]
  },
  {
   "cell_type": "code",
   "execution_count": null,
   "id": "fce402fb",
   "metadata": {},
   "outputs": [],
   "source": []
  }
 ],
 "metadata": {
  "kernelspec": {
   "display_name": "Python 3 (ipykernel)",
   "language": "python",
   "name": "python3"
  },
  "language_info": {
   "codemirror_mode": {
    "name": "ipython",
    "version": 3
   },
   "file_extension": ".py",
   "mimetype": "text/x-python",
   "name": "python",
   "nbconvert_exporter": "python",
   "pygments_lexer": "ipython3",
   "version": "3.11.5"
  }
 },
 "nbformat": 4,
 "nbformat_minor": 5
}
